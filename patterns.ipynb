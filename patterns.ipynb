{
 "cells": [
  {
   "cell_type": "code",
   "execution_count": null,
   "metadata": {},
   "outputs": [],
   "source": [
    "\n",
    "    \n",
    "\n",
    "    \n",
    "    \n"
   ]
  },
  {
   "cell_type": "code",
   "execution_count": 2,
   "metadata": {},
   "outputs": [
    {
     "name": "stdout",
     "output_type": "stream",
     "text": [
      "Patten 1 \n",
      "1\n",
      "\n",
      "12\n",
      "\n",
      "123\n",
      "\n",
      "1234\n",
      "\n",
      "12345\n",
      "\n"
     ]
    }
   ],
   "source": [
    "print(\"Patten 1 \")\n",
    "for i in range(2,7):\n",
    "    \n",
    "    for j in range(1,i):\n",
    "        print(j,end=(''))\n",
    "    print(\"\\n\")\n"
   ]
  },
  {
   "cell_type": "code",
   "execution_count": 6,
   "metadata": {},
   "outputs": [
    {
     "name": "stdout",
     "output_type": "stream",
     "text": [
      "pattern 2\n",
      "1\n",
      "\n",
      "22\n",
      "\n",
      "333\n",
      "\n",
      "4444\n",
      "\n",
      "55555\n",
      "\n"
     ]
    }
   ],
   "source": [
    "print(\"pattern 2\")\n",
    "for i in range(1,6):\n",
    "    for j in range(0,i):\n",
    "        print(i,end=(''))\n",
    "    print(\"\\n\")"
   ]
  },
  {
   "cell_type": "code",
   "execution_count": 13,
   "metadata": {},
   "outputs": [
    {
     "name": "stdout",
     "output_type": "stream",
     "text": [
      "pattern 3\n",
      "1\n",
      "\n",
      "12\n",
      "\n",
      "123\n",
      "\n",
      "1234\n",
      "\n",
      "12345\n",
      "\n",
      "1234\n",
      "\n",
      "123\n",
      "\n",
      "12\n",
      "\n",
      "1\n",
      "\n"
     ]
    }
   ],
   "source": [
    "print(\"pattern 3\")\n",
    "for i in range(2,6):\n",
    "    for j in range(1,i):\n",
    "        print(j,end=(''))\n",
    "    print('\\n')\n",
    "    \n",
    "for k in range(6,1,-1):\n",
    "    for l in range(1,k):\n",
    "        print(l,end=(''))\n",
    "    print('\\n')\n"
   ]
  },
  {
   "cell_type": "code",
   "execution_count": 15,
   "metadata": {},
   "outputs": [
    {
     "name": "stdout",
     "output_type": "stream",
     "text": [
      "pattern 4\n",
      "12345\n",
      "\n",
      "1234\n",
      "\n",
      "123\n",
      "\n",
      "12\n",
      "\n",
      "1\n",
      "\n",
      "12\n",
      "\n",
      "123\n",
      "\n",
      "1234\n",
      "\n",
      "12345\n",
      "\n"
     ]
    }
   ],
   "source": [
    "print(\"pattern 4\")\n",
    "for i in range(6,2,-1):\n",
    "    for j in range(1,i):\n",
    "        print(j,end=(''))\n",
    "    print('\\n')\n",
    "\n",
    "for k in range(2,7):\n",
    "    for l in range(1,k):\n",
    "        print(l,end=(''))\n",
    "    print(\"\\n\")\n"
   ]
  },
  {
   "cell_type": "code",
   "execution_count": 21,
   "metadata": {},
   "outputs": [
    {
     "name": "stdout",
     "output_type": "stream",
     "text": [
      "pattern 5\n",
      "54321\n",
      "\n",
      "4321\n",
      "\n",
      "321\n",
      "\n",
      "21\n",
      "\n",
      "1\n",
      "\n",
      "21\n",
      "\n",
      "321\n",
      "\n",
      "4321\n",
      "\n",
      "54321\n",
      "\n"
     ]
    }
   ],
   "source": [
    "print(\"pattern 5\")\n",
    "for i in range(5,1,-1):\n",
    "    for j in range(i,0,-1):\n",
    "        print(j,end=(''))\n",
    "    print('\\n')\n",
    "\n",
    "for k in range(1,6):\n",
    "    for l in range(k,0,-1):\n",
    "        print(l,end=(''))\n",
    "    print('\\n')\n"
   ]
  },
  {
   "cell_type": "code",
   "execution_count": 33,
   "metadata": {},
   "outputs": [
    {
     "name": "stdout",
     "output_type": "stream",
     "text": [
      "pattern 6\n",
      "          1 \n",
      "\n",
      "         1 2 \n",
      "\n",
      "        1 2 3 \n",
      "\n",
      "       1 2 3 4 \n",
      "\n",
      "      1 2 3 4 5 \n",
      "\n"
     ]
    }
   ],
   "source": [
    "print(\"pattern 6\")\n",
    " \n",
    "k = 10\n",
    "for i in range(1, 6): \n",
    "    for j in range(0, k): \n",
    "        print(end=\" \")\n",
    "    k = k -1\n",
    "    for l in range(1, i+1): \n",
    "        print(l,\"\", end=\"\") \n",
    "    print('\\n')\n",
    "\n",
    "        \n"
   ]
  },
  {
   "cell_type": "code",
   "execution_count": 32,
   "metadata": {},
   "outputs": [
    {
     "name": "stdout",
     "output_type": "stream",
     "text": [
      "pattern 7\n",
      "54321\n",
      "\n",
      "5432\n",
      "\n",
      "543\n",
      "\n",
      "54\n",
      "\n",
      "5\n",
      "\n"
     ]
    }
   ],
   "source": [
    "print(\"pattern 7\")\n",
    "for i in range(0,5):\n",
    "    for j in range(5,i,-1):\n",
    "        print(j,end=(''))\n",
    "    print('\\n')"
   ]
  },
  {
   "cell_type": "code",
   "execution_count": 27,
   "metadata": {},
   "outputs": [
    {
     "name": "stdout",
     "output_type": "stream",
     "text": [
      "Pattern 8\n",
      "5\n",
      "\n",
      "54\n",
      "\n",
      "543\n",
      "\n",
      "5432\n",
      "\n",
      "54321\n",
      "\n"
     ]
    }
   ],
   "source": [
    "print(\"Pattern 8\")\n",
    "\n",
    "for i in range(4,-1,-1):\n",
    "    for j in range(5,i,-1):\n",
    "        print(j,end=(''))\n",
    "    print('\\n')"
   ]
  },
  {
   "cell_type": "code",
   "execution_count": 53,
   "metadata": {},
   "outputs": [
    {
     "name": "stdout",
     "output_type": "stream",
     "text": [
      "Pattern 9\n",
      "12345\n",
      "\n",
      "1234\n",
      "\n",
      "123\n",
      "\n",
      "12\n",
      "\n",
      "1\n",
      "\n"
     ]
    }
   ],
   "source": [
    "print(\"Pattern 9\")\n",
    "\n",
    "for i in range(6,1,-1):\n",
    "    for j in range(1,i):\n",
    "        print(j,end=(''))\n",
    "    print('\\n')\n",
    "\n"
   ]
  },
  {
   "cell_type": "code",
   "execution_count": 28,
   "metadata": {},
   "outputs": [
    {
     "name": "stdout",
     "output_type": "stream",
     "text": [
      "Pattern 10\n",
      "1 \n",
      "\n",
      "2 3 \n",
      "\n",
      "4 5 6 \n",
      "\n",
      "7 8 9 10 \n",
      "\n",
      "11 12 13 14 15 \n",
      "\n"
     ]
    }
   ],
   "source": [
    "print(\"Pattern 10\")\n",
    "\n",
    "k = 1\n",
    "for i in range(2,7):\n",
    "    for j in range(1,i):\n",
    "        print(k,end=\" \")\n",
    "        k = k+1\n",
    "    print(\"\\n\")    "
   ]
  },
  {
   "cell_type": "code",
   "execution_count": 1,
   "metadata": {},
   "outputs": [
    {
     "name": "stdout",
     "output_type": "stream",
     "text": [
      "Pattern 11\n",
      "1\n",
      "\n",
      "21\n",
      "\n",
      "321\n",
      "\n",
      "4321\n",
      "\n",
      "54321\n",
      "\n"
     ]
    }
   ],
   "source": [
    "print(\"Pattern 11\")\n",
    "\n",
    "for k in range(1,6):\n",
    "    for l in range(k,0,-1):\n",
    "        print(l,end=(''))\n",
    "    print('\\n')\n"
   ]
  },
  {
   "cell_type": "code",
   "execution_count": 47,
   "metadata": {},
   "outputs": [
    {
     "name": "stdout",
     "output_type": "stream",
     "text": [
      "pattern 12\n"
     ]
    }
   ],
   "source": [
    "print(\"pattern 12\")"
   ]
  },
  {
   "cell_type": "code",
   "execution_count": 13,
   "metadata": {},
   "outputs": [
    {
     "name": "stdout",
     "output_type": "stream",
     "text": [
      "1 \n",
      "1 1 \n",
      "1 2 1 \n",
      "1 3 3 1 \n",
      "1 4 6 4 1 \n"
     ]
    }
   ],
   "source": [
    "print(\"pattern 13\")\n",
    "for i in range(1, 6):  \n",
    "        C = 1; # used to represent C(line, i)  \n",
    "        for j in range(1, i+1):  \n",
    "              \n",
    "            # The first value in a  \n",
    "            # line is always 1  \n",
    "            print(C, end = \" \");  \n",
    "            C = int(C * (i - j) / j);  \n",
    "        print(\"\");  \n",
    "  "
   ]
  },
  {
   "cell_type": "code",
   "execution_count": 46,
   "metadata": {},
   "outputs": [
    {
     "name": "stdout",
     "output_type": "stream",
     "text": [
      "pattern 14\n",
      "1\n",
      "\n",
      "121\n",
      "\n",
      "12321\n",
      "\n",
      "1234321\n",
      "\n",
      "123454321\n",
      "\n"
     ]
    }
   ],
   "source": [
    "print(\"pattern 14\")\n",
    "for i in range(1,6):\n",
    "  \n",
    "    for j in range(1,i):\n",
    "        print(j,end=(''))\n",
    "    \n",
    "    \n",
    "    for l in range(i,0,-1):\n",
    "        print(l,end=(''))\n",
    "    print('\\n')"
   ]
  },
  {
   "cell_type": "code",
   "execution_count": 42,
   "metadata": {},
   "outputs": [
    {
     "name": "stdout",
     "output_type": "stream",
     "text": [
      "pattern 15\n",
      "  1 2 3 4 5 \n",
      "\n",
      "   1 2 3 4 \n",
      "\n",
      "    1 2 3 \n",
      "\n",
      "     1 2 \n",
      "\n",
      "      1 \n",
      "\n"
     ]
    }
   ],
   "source": [
    "print(\"pattern 15\")\n",
    "k = 0\n",
    "for i in range(5, 0,-1): \n",
    "    for j in range(0, k+2): \n",
    "        print(end=\" \")\n",
    "    k = k +1\n",
    "    for l in range(1, i+1): \n",
    "        print(l,\"\", end=\"\") \n",
    "    print('\\n')   "
   ]
  },
  {
   "cell_type": "code",
   "execution_count": 37,
   "metadata": {},
   "outputs": [
    {
     "name": "stdout",
     "output_type": "stream",
     "text": [
      "          1 \n",
      "\n",
      "         1 2 \n",
      "\n",
      "        1 2 3 \n",
      "\n",
      "       1 2 3 4 \n",
      "\n",
      "      1 2 3 4 5 \n",
      "\n",
      "       1 2 3 4 \n",
      "\n",
      "        1 2 3 \n",
      "\n",
      "         1 2 \n",
      "\n",
      "          1 \n",
      "\n"
     ]
    }
   ],
   "source": [
    "print(\"pattern 16\") \n",
    "k = 10\n",
    "for i in range(1, 6): \n",
    "    for j in range(0, k): \n",
    "        print(end=\" \")\n",
    "    k = k -1\n",
    "    for l in range(1, i+1): \n",
    "        print(l,\"\", end=\"\") \n",
    "    print('\\n')\n",
    "\n",
    "for i in range(4, 0,-1): \n",
    "    for j in range(0, k+2): \n",
    "        print(end=\" \")\n",
    "    k = k +1\n",
    "    for l in range(1, i+1): \n",
    "        print(l,\"\", end=\"\") \n",
    "    print('\\n')   "
   ]
  },
  {
   "cell_type": "code",
   "execution_count": null,
   "metadata": {},
   "outputs": [],
   "source": []
  }
 ],
 "metadata": {
  "kernelspec": {
   "display_name": "Python 3",
   "language": "python",
   "name": "python3"
  },
  "language_info": {
   "codemirror_mode": {
    "name": "ipython",
    "version": 3
   },
   "file_extension": ".py",
   "mimetype": "text/x-python",
   "name": "python",
   "nbconvert_exporter": "python",
   "pygments_lexer": "ipython3",
   "version": "3.7.3"
  }
 },
 "nbformat": 4,
 "nbformat_minor": 2
}
